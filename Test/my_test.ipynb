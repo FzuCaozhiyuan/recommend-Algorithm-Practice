{
 "cells": [
  {
   "cell_type": "code",
   "execution_count": 2,
   "metadata": {},
   "outputs": [],
   "source": [
    "import numpy as np\n",
    "import pandas as pd"
   ]
  },
  {
   "cell_type": "code",
   "execution_count": 6,
   "metadata": {},
   "outputs": [
    {
     "name": "stdout",
     "output_type": "stream",
     "text": [
      "(2,)\n",
      "[list([{'feat': 'I1'}, {'feat': 'I2'}, {'feat': 'I3'}, {'feat': 'I4'}, {'feat': 'I5'}, {'feat': 'I6'}, {'feat': 'I7'}, {'feat': 'I8'}, {'feat': 'I9'}, {'feat': 'I10'}, {'feat': 'I11'}, {'feat': 'I12'}, {'feat': 'I13'}])\n",
      " list([{'feat': 'C1', 'feat_num': 79, 'embed_dim': 8}, {'feat': 'C2', 'feat_num': 252, 'embed_dim': 8}, {'feat': 'C3', 'feat_num': 1293, 'embed_dim': 8}, {'feat': 'C4', 'feat_num': 1043, 'embed_dim': 8}, {'feat': 'C5', 'feat_num': 30, 'embed_dim': 8}, {'feat': 'C6', 'feat_num': 7, 'embed_dim': 8}, {'feat': 'C7', 'feat_num': 1164, 'embed_dim': 8}, {'feat': 'C8', 'feat_num': 39, 'embed_dim': 8}, {'feat': 'C9', 'feat_num': 2, 'embed_dim': 8}, {'feat': 'C10', 'feat_num': 908, 'embed_dim': 8}, {'feat': 'C11', 'feat_num': 926, 'embed_dim': 8}, {'feat': 'C12', 'feat_num': 1239, 'embed_dim': 8}, {'feat': 'C13', 'feat_num': 824, 'embed_dim': 8}, {'feat': 'C14', 'feat_num': 20, 'embed_dim': 8}, {'feat': 'C15', 'feat_num': 819, 'embed_dim': 8}, {'feat': 'C16', 'feat_num': 1159, 'embed_dim': 8}, {'feat': 'C17', 'feat_num': 9, 'embed_dim': 8}, {'feat': 'C18', 'feat_num': 534, 'embed_dim': 8}, {'feat': 'C19', 'feat_num': 201, 'embed_dim': 8}, {'feat': 'C20', 'feat_num': 4, 'embed_dim': 8}, {'feat': 'C21', 'feat_num': 1204, 'embed_dim': 8}, {'feat': 'C22', 'feat_num': 7, 'embed_dim': 8}, {'feat': 'C23', 'feat_num': 12, 'embed_dim': 8}, {'feat': 'C24', 'feat_num': 729, 'embed_dim': 8}, {'feat': 'C25', 'feat_num': 33, 'embed_dim': 8}, {'feat': 'C26', 'feat_num': 554, 'embed_dim': 8}])]\n",
      "(1279, 40)\n",
      "            I1        I2        I3        I4        I5        I6        I7  \\\n",
      "0     0.094737  0.000381  0.000828  0.080460  0.000121  0.001509  0.005428   \n",
      "1     0.000000  0.000254  0.000709  0.045977  0.007090  0.019836  0.003016   \n",
      "2     0.000000  0.000127  0.000236  0.034483  0.005945  0.000647  0.001206   \n",
      "3     0.000000  0.001144  0.003784  0.264368  0.031171  0.008840  0.009047   \n",
      "4     0.000000  0.011823  0.000118  0.195402  0.006079  0.099828  0.011460   \n",
      "...        ...       ...       ...       ...       ...       ...       ...   \n",
      "1274  0.000000  0.028858  0.000591  0.000000  0.001422  0.006900  0.004222   \n",
      "1275  0.000000  0.000509  0.000828  0.298851  0.005456  0.000000  0.000000   \n",
      "1276  0.000000  0.000381  0.000000  0.000000  0.001604  0.027382  0.004222   \n",
      "1277  0.000000  0.000127  0.000000  0.000000  0.039133  0.000000  0.000000   \n",
      "1278  0.000000  0.000254  0.002247  0.183908  0.001406  0.071583  0.000000   \n",
      "\n",
      "            I8        I9   I10  ...  C18  C19  C20   C21  C22  C23  C24  C25  \\\n",
      "0     0.009141  0.001242  0.25  ...  188   23    2  1033    0    0   67   27   \n",
      "1     0.007313  0.053752  0.00  ...  285   65    2   294    0    0  175   21   \n",
      "2     0.005484  0.000532  0.00  ...  188   23    3   700    0    1  250   27   \n",
      "3     0.025594  0.004258  0.00  ...    2   23    1   638    0    1   67   27   \n",
      "4     0.054845  0.079652  0.00  ...   16   23    1  1090    0    0  458    4   \n",
      "...        ...       ...   ...  ...  ...  ...  ...   ...  ...  ...  ...  ...   \n",
      "1274  0.005484  0.002129  0.00  ...   43   58    2   969    0    1  175   27   \n",
      "1275  0.021938  0.001064  0.00  ...   42   23    3   871    3    0  115    2   \n",
      "1276  0.000000  0.012063  0.00  ...  197    0    0     0    0    0    0    0   \n",
      "1277  0.036563  0.000000  0.00  ...   88    0    0   576    3    0  547    0   \n",
      "1278  0.032907  0.003371  0.00  ...  102  155    2   569    0    0  459    2   \n",
      "\n",
      "      C26  Label  \n",
      "0     425      0  \n",
      "1     150      0  \n",
      "2     303      0  \n",
      "3     410      0  \n",
      "4      91      0  \n",
      "...   ...    ...  \n",
      "1274  150      0  \n",
      "1275  138      0  \n",
      "1276    0      0  \n",
      "1277    0      0  \n",
      "1278   17      0  \n",
      "\n",
      "[1279 rows x 40 columns]\n"
     ]
    }
   ],
   "source": [
    "fea_file_path = '../Data/criteo/processed_data/fea_col.npy'\n",
    "fea_file = np.load(fea_file_path, allow_pickle=True)\n",
    "print(fea_file.shape)\n",
    "print(fea_file)  # C开头的列代表稀疏特征，I开头的列代表的是稠密特征\n",
    "\n",
    "train_file_path = '../Data/criteo/processed_data/train_set.csv'\n",
    "train_file = pd.read_csv(train_file_path)\n",
    "print(train_file.shape)\n",
    "print(train_file)"
   ]
  },
  {
   "cell_type": "code",
   "execution_count": 15,
   "metadata": {},
   "outputs": [
    {
     "name": "stdout",
     "output_type": "stream",
     "text": [
      "Index(['I1', 'I2', 'I3', 'I4', 'I5', 'I6', 'I7', 'I8', 'I9', 'I10', 'I11',\n",
      "       'I12', 'I13', 'C1', 'C2', 'C3', 'C4', 'C5', 'C6', 'C7', 'C8', 'C9',\n",
      "       'C10', 'C11', 'C12', 'C13', 'C14', 'C15', 'C16', 'C17', 'C18', 'C19',\n",
      "       'C20', 'C21', 'C22', 'C23', 'C24', 'C25', 'C26', 'Label'],\n",
      "      dtype='object')\n",
      "[{'feat': 'C1', 'feat_num': 79, 'embed_dim': 8}, {'feat': 'C2', 'feat_num': 252, 'embed_dim': 8}, {'feat': 'C3', 'feat_num': 1293, 'embed_dim': 8}, {'feat': 'C4', 'feat_num': 1043, 'embed_dim': 8}, {'feat': 'C5', 'feat_num': 30, 'embed_dim': 8}, {'feat': 'C6', 'feat_num': 7, 'embed_dim': 8}, {'feat': 'C7', 'feat_num': 1164, 'embed_dim': 8}, {'feat': 'C8', 'feat_num': 39, 'embed_dim': 8}, {'feat': 'C9', 'feat_num': 2, 'embed_dim': 8}, {'feat': 'C10', 'feat_num': 908, 'embed_dim': 8}, {'feat': 'C11', 'feat_num': 926, 'embed_dim': 8}, {'feat': 'C12', 'feat_num': 1239, 'embed_dim': 8}, {'feat': 'C13', 'feat_num': 824, 'embed_dim': 8}, {'feat': 'C14', 'feat_num': 20, 'embed_dim': 8}, {'feat': 'C15', 'feat_num': 819, 'embed_dim': 8}, {'feat': 'C16', 'feat_num': 1159, 'embed_dim': 8}, {'feat': 'C17', 'feat_num': 9, 'embed_dim': 8}, {'feat': 'C18', 'feat_num': 534, 'embed_dim': 8}, {'feat': 'C19', 'feat_num': 201, 'embed_dim': 8}, {'feat': 'C20', 'feat_num': 4, 'embed_dim': 8}, {'feat': 'C21', 'feat_num': 1204, 'embed_dim': 8}, {'feat': 'C22', 'feat_num': 7, 'embed_dim': 8}, {'feat': 'C23', 'feat_num': 12, 'embed_dim': 8}, {'feat': 'C24', 'feat_num': 729, 'embed_dim': 8}, {'feat': 'C25', 'feat_num': 33, 'embed_dim': 8}, {'feat': 'C26', 'feat_num': 554, 'embed_dim': 8}]\n"
     ]
    }
   ],
   "source": [
    "print(train_file.columns)\n",
    "print(fea_file[1])\n"
   ]
  },
  {
   "cell_type": "code",
   "execution_count": 16,
   "metadata": {},
   "outputs": [
    {
     "name": "stdout",
     "output_type": "stream",
     "text": [
      "['I1', 'I2', 'I3', 'I4', 'I5', 'I6', 'I7', 'I8', 'I9', 'I10', 'I11', 'I12', 'I13']\n",
      "[79, 252, 1293, 1043, 30, 7, 1164, 39, 2, 908, 926, 1239, 824, 20, 819, 1159, 9, 534, 201, 4, 1204, 7, 12, 729, 33, 554]\n"
     ]
    }
   ],
   "source": [
    "dense_features_col = [col for col in train_file.columns if col[0] == 'I']\n",
    "print(dense_features_col)\n",
    "\n",
    "sparse_features_col = []\n",
    "for f in fea_file[1]:\n",
    "    sparse_features_col.append(f['feat_num'])\n",
    "print(sparse_features_col)\n",
    "# 因此dense_features_col和sparse_features_col都只是列标"
   ]
  },
  {
   "cell_type": "code",
   "execution_count": null,
   "metadata": {},
   "outputs": [],
   "source": []
  }
 ],
 "metadata": {
  "kernelspec": {
   "display_name": "d2l",
   "language": "python",
   "name": "python3"
  },
  "language_info": {
   "codemirror_mode": {
    "name": "ipython",
    "version": 3
   },
   "file_extension": ".py",
   "mimetype": "text/x-python",
   "name": "python",
   "nbconvert_exporter": "python",
   "pygments_lexer": "ipython3",
   "version": "3.9.16"
  }
 },
 "nbformat": 4,
 "nbformat_minor": 2
}
